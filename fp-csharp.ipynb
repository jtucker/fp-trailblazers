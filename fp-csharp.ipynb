{
 "cells": [
  {
   "cell_type": "markdown",
   "metadata": {},
   "source": [
    "## Function Examples\n",
    "Below are some C# implementations of various ways that function may appear in a code base"
   ]
  },
  {
   "cell_type": "markdown",
   "metadata": {},
   "source": [
    "#### Typical and Lambda Functions"
   ]
  },
  {
   "cell_type": "code",
   "execution_count": null,
   "metadata": {
    "dotnet_interactive": {
     "language": "csharp"
    }
   },
   "outputs": [],
   "source": [
    "// typical function\n",
    "public static int MultiplyBy2AndAdd(int x, int y) {\n",
    "    return (x * 2) + (y * 2);\n",
    "}\n",
    "\n",
    "// lambda function\n",
    "var IsMod3 = (int x) => x % 3 == 0; // aka: Func<int, bool> \n",
    "\n",
    "Console.WriteLine($\"MultiplyBy2AndAdd(2, 3): {MultiplyBy2AndAdd(2, 3)}\"); // == 10\n",
    "Console.WriteLine($\"IsMod(9): {IsMod3(9)}\"); // == true\n"
   ]
  },
  {
   "cell_type": "markdown",
   "metadata": {},
   "source": [
    "#### Delegate\n",
    "\n",
    "Using the `Comparison<T>` delegate type from the `System` namespace\n",
    "```csharp\n",
    "public namespace System\n",
    "{\n",
    "    public delegate Comparison<T>(T left, T right);\n",
    "}\n",
    "```"
   ]
  },
  {
   "cell_type": "code",
   "execution_count": null,
   "metadata": {
    "dotnet_interactive": {
     "language": "csharp"
    }
   },
   "outputs": [],
   "source": [
    "Comparison<string> sortAlphabetically = (left, right) =>\n",
    "    left.CompareTo(right);\n",
    "\n",
    "var beerList = new List<string> { \"tripel\", \"ipa\", \"sour ale\", \"dunkel\", \"lager\", \"aged\", \"stout\" };\n",
    "beerList.Sort(sortAlphabetically); \n",
    "beerList.Display();"
   ]
  },
  {
   "cell_type": "markdown",
   "metadata": {},
   "source": [
    "#### Dictionaries"
   ]
  },
  {
   "cell_type": "code",
   "execution_count": null,
   "metadata": {
    "dotnet_interactive": {
     "language": "csharp"
    }
   },
   "outputs": [],
   "source": [
    "var times2 = new Dictionary<int, int>\n",
    "{\n",
    "    { 0, 0 },\n",
    "    { 1, 2 },\n",
    "    { 2, 4 },\n",
    "    { 3, 6 },\n",
    "    { 4, 8 }\n",
    "};\n",
    "\n",
    "Console.WriteLine($\"times2[3]: {times2[3]}\");"
   ]
  },
  {
   "cell_type": "markdown",
   "metadata": {},
   "source": [
    "### e pluribus unum: creating a higher order function\n",
    "\n",
    "Below is sort of the canonical example that we probably use everyday using the `Where` method. `Where` takes a function that has a type `T` input and produces a `bool` (aka: `Func<T, bool>`)."
   ]
  },
  {
   "cell_type": "code",
   "execution_count": null,
   "metadata": {
    "dotnet_interactive": {
     "language": "csharp"
    }
   },
   "outputs": [],
   "source": [
    "beerList.Where(beer => beer.StartsWith(\"s\")).Display();"
   ]
  },
  {
   "cell_type": "markdown",
   "metadata": {},
   "source": [
    "We have already defined a HOF that produces a function, it is called `IsMod3`. That function produces a function that takes an input of `int` and returns a `bool`. "
   ]
  },
  {
   "cell_type": "code",
   "execution_count": null,
   "metadata": {
    "dotnet_interactive": {
     "language": "csharp"
    }
   },
   "outputs": [],
   "source": [
    "Enumerable.Range(0, 30).Where(IsMod3).Display();"
   ]
  },
  {
   "cell_type": "markdown",
   "metadata": {},
   "source": [
    "_Bonus_: You can get pretty crazy with passing functions and one aspect of more advanced FP is partial applications. This allows you to create functions interatively. "
   ]
  },
  {
   "cell_type": "code",
   "execution_count": null,
   "metadata": {
    "dotnet_interactive": {
     "language": "csharp"
    }
   },
   "outputs": [],
   "source": [
    "// we have a function that outputs some log message\n",
    "var log = (string level, string message) => Console.WriteLine($\"{level.ToUpper()}: {message}\");\n",
    "log(\"WARNING\", \"We did something bad but not terrible.\");\n",
    "log(\"Error\", \"THIS WAS REALLY BAD!\");\n",
    "log(\"debug\", \"Meh, just some random data.\");\n",
    "\n",
    "// that could get tedious, so lets add some generic log level functions that pre populate the level so\n",
    "// we will rewrite the log function so it can be partially applied\n",
    "var newlog = (string level) => (string message) =>  Console.WriteLine($\"{level.ToUpper()}: {message}\");\n",
    "\n",
    "// specialized logging functions\n",
    "var errorLog = newlog(\"error\");\n",
    "var debugLog = newlog(\"Debug\");\n",
    "var warningLog = newlog(\"WARNING\");\n",
    "\n",
    "// using the specialized functions\n",
    "errorLog(\"THIS IS BAD!\");\n",
    "debugLog(\"Some random info.\");\n",
    "warningLog(\"Not terrible but you should know about it.\")\n"
   ]
  },
  {
   "cell_type": "markdown",
   "metadata": {},
   "source": [
    "## Impure Function example\n",
    "\n",
    "This is a super simple example of some code we have either written or have come across.  In this example we have `Fermenter` class that calculates the size of the fermenter on the number of ingredents in the beer. We default to a 5 gallon size and go to a 10 gallon one with more than 5 ingredients and then up to a 15 gallon one if there are more than 10 ingredients.  "
   ]
  },
  {
   "cell_type": "code",
   "execution_count": null,
   "metadata": {
    "dotnet_interactive": {
     "language": "csharp"
    }
   },
   "outputs": [],
   "source": [
    "// Calculates the size of fermentation vessel we need\n",
    "// based on the amount of ingredients\n",
    "public class Fermenter\n",
    "{\n",
    "    private List<string> ingredients = new();\n",
    "    private string equipmentNeeded = \"5 gallon fermenter\";\n",
    "\n",
    "    public void AddIngredient(string ingredient)\n",
    "    {\n",
    "        ingredients.Add(ingredient);\n",
    "        if(ingredients.Count > 10) \n",
    "        {\n",
    "            equipmentNeeded = \"15 gallon fermenter\";\n",
    "        } \n",
    "        else if (ingredients.Count > 5) \n",
    "        {\n",
    "            equipmentNeeded = \"10 gallon fermenter\";\n",
    "        }\n",
    "    }\n",
    "\n",
    "    public string GetEquipmentNeeded() \n",
    "    {\n",
    "        return equipmentNeeded;\n",
    "    }\n",
    "\n",
    "    public List<string> GetIngredients() \n",
    "    {\n",
    "        return ingredients;\n",
    "    }\n",
    "}\n",
    "\n",
    "// We create a new Fermenter\n",
    "var fermenterCalc = new Fermenter();\n",
    "fermenterCalc.AddIngredient(\"Cascade Hops\"); // Add some hops\n",
    "fermenterCalc.GetIngredients().Display(); // show what we have so far\n",
    "fermenterCalc.GetEquipmentNeeded().Display(); // the size of the fermenter\n",
    "\n",
    "var lotsOfStuff = new List<string> { \"Wheat Malt\", \"Pilsener Malt\", \"Caramel Malt\", \"Hallertau Magnum Hops\", \"Safale WB40 Yeast\" };\n",
    "foreach(var stuff in lotsOfStuff)\n",
    "{\n",
    "    fermenterCalc.AddIngredient(stuff);\n",
    "}\n",
    "\n",
    "fermenterCalc.GetIngredients().Display(); // Lots of ingredients now\n",
    "fermenterCalc.GetEquipmentNeeded().Display(); // bigger fermenter needed\n"
   ]
  },
  {
   "cell_type": "markdown",
   "metadata": {},
   "source": [
    "## Cleaning up the code a bit\n",
    "\n",
    "Based on some of the stuff we discussed, we can observe a few issues that need to be addressed. \n",
    "\n",
    "Here is a reminder on pure function rules (abbreviated):\n",
    "1. Inputs dictate outputs\n",
    "2. No side effects\n",
    "3. Returns a single value\n",
    "\n",
    "``` csharp\n",
    "public class Fermenter\n",
    "{\n",
    "    private List<string> ingredients = new();\n",
    "    private string equipmentNeeded = \"5 gallon fermenter\";\n",
    "\n",
    "    public void AddIngredient(string ingredient)                            // Void method doesn't return a value\n",
    "    {\n",
    "        ingredients.Add(ingredient);\n",
    "        if(ingredients.Count > 10) \n",
    "        {\n",
    "            equipmentNeeded = \"15 gallon fermenter\";\n",
    "        } \n",
    "        else if (ingredients.Count > 5) \n",
    "        {\n",
    "            equipmentNeeded = \"10 gallon fermenter\";\n",
    "        }                                                                   // Mutates global state\n",
    "    }\n",
    "\n",
    "    public string GetEquipmentNeeded() \n",
    "    {                                    // Uses global state\n",
    "        return equipmentNeeded;\n",
    "    }\n",
    "\n",
    "    public List<string> GetIngredients() \n",
    "    {                                  // Uses global state\n",
    "        return ingredients;\n",
    "    }\n",
    "}\n",
    "```\n",
    "\n",
    "Let's update the `GetEquipmentNeeded()` first, this returns a value based on the count of ingredients. Since we know that a pure function has it's output dictated on it's input we should pass in the state that the function needs.  \n",
    "\n",
    "``` csharp\n",
    "public string GetEquipmentNeeded(List<string> ingredients) \n",
    "{\n",
    "    if (ingredients.Count > 10) \n",
    "    {\n",
    "        return \"15 gallon fermenter\";\n",
    "    } \n",
    "    else if (ingredients.Count > 5) \n",
    "    {\n",
    "        return \"10 gallon fermenter\";\n",
    "    }    \n",
    "    return \"5 gallon fermenter\";\n",
    "}\n",
    "```\n",
    "Usually I'm _OK_ with `if`/`ifelse` if it's simple, anything more than this I immediately will start switching to Pattern Matching:"
   ]
  },
  {
   "cell_type": "code",
   "execution_count": null,
   "metadata": {
    "dotnet_interactive": {
     "language": "csharp"
    }
   },
   "outputs": [],
   "source": [
    "public string GetEquipmentNeeded(List<string> ingredients) => \n",
    "    ingredients switch {\n",
    "        { Count: > 10 } => \"15 gallon fermenter\",\n",
    "        { Count: > 5 } => \"10 gallon fermenter\",\n",
    "        _ => \"5 gallon fermenter\"\n",
    "    };\n"
   ]
  },
  {
   "cell_type": "markdown",
   "metadata": {},
   "source": [
    "Next we can take a look at the `AddIngredients` function. This violates a few rules; it has no return value and it mutates global state. Just like in the previous refactor, lets pass in the state the function needs and return out the updated data. \n",
    "\n",
    "```csharp\n",
    "public List<string> AddIngredients(string ingredient, List<string> ingredients) =>\n",
    "    new List<string>(ingredients) { ingredient };\n",
    "```\n",
    "This is really just a wrapper around `List.Add` but the fuction is now pure, as there are no side effects and the inputs dictate the outputs. \n",
    "\n",
    "Finally we can just remove the `GetNames` function because it's not needed since there is no more global state in the class. We have now reduced the core logic down to two functions. \n",
    "\n",
    "Also, since we have removed the shared state and the functions are pure, we can mark the class and the functions as `static`.  \n",
    "\n",
    "```csharp\n",
    "public static class Fermenter\n",
    "{\n",
    "    public static List<string> AddIngredients(string ingredient, List<string> ingredients) =>\n",
    "        new List<string>(ingredients) { ingredient };\n",
    "\n",
    "    public static string GetEquipmentNeeded(List<string> ingredients) => \n",
    "        ingredients switch {\n",
    "            { Count: > 10 } => \"15 gallon fermenter\",\n",
    "            { Count: > 5 } => \"10 gallon fermenter\",\n",
    "            _ => \"5 gallon fermenter\"\n",
    "        };\n",
    "}\n",
    "```"
   ]
  },
  {
   "cell_type": "markdown",
   "metadata": {},
   "source": [
    "## I/O side effects and how to deal with them\n",
    "\n",
    "Some more quick examples of how to deal with side effects as you start to look at your code. \n",
    "\n",
    "Let's take, for example, some code that would act as a validator for our brewing device on when it can start the bottling process, this is usually after it has fermented for 10 - 14 days and never before that.  \n",
    "\n",
    "So in an OO world we would define some interfaces (usually marker interfaces) and then the concrete classes (usually just one) and then all the tests to make sure it works. \n",
    "\n",
    "You'll then have to configure the DI to setup all the interfaces to concrete classes. "
   ]
  },
  {
   "cell_type": "code",
   "execution_count": null,
   "metadata": {
    "dotnet_interactive": {
     "language": "csharp"
    }
   },
   "outputs": [],
   "source": [
    "// Our state\n",
    "public record Recipe (\n",
    "    List<string> solids,\n",
    "    double boilTemp,\n",
    "    double pitchYeastTemp,\n",
    "    DateTime dateToBottle \n",
    ");\n",
    "\n",
    "// An interface for setting up the StepChecker contract\n",
    "public interface IStepChecker<T>\n",
    "{\n",
    "    bool CanProceed(T input);\n",
    "}\n",
    "\n",
    "// The service that will abstract away DateTime.UtcNow\n",
    "public interface IDateService\n",
    "{\n",
    "    DateTime GetDate();\n",
    "}\n",
    "\n",
    "// The concrete DateService\n",
    "public record DateService : IDateService\n",
    "{\n",
    "    public DateTime GetDate() => DateTime.UtcNow;\n",
    "}\n",
    "\n",
    "/*\n",
    " The Implementation already simplified via record syntax. Normally you'd need a define a constructor for\n",
    " all the dependent services you want to have injected.\n",
    "*/\n",
    "public record BottlingStepChecker (IDateService DateService) : IStepChecker<Recipe>\n",
    "{    \n",
    "    private IDateService DateService { get; } = DateService;\n",
    "    public bool CanProceed(Recipe recipe) => \n",
    "        (DateService.GetDate().Date >= recipe.dateToBottle.Date);\n",
    "}\n",
    "\n",
    "// using our step checker\n",
    "var checker = new BottlingStepChecker(new DateService());\n",
    "var pilsnerRecipe = new Recipe(default, default, default, DateTime.UtcNow.AddDays(13));\n",
    "\n",
    "checker.CanProceed(pilsnerRecipe).Display();"
   ]
  },
  {
   "cell_type": "markdown",
   "metadata": {},
   "source": [
    "There are a few options for simplifying this but the one I prefer is injecting a `Func<T>` for simple problems like this. "
   ]
  },
  {
   "cell_type": "code",
   "execution_count": null,
   "metadata": {
    "dotnet_interactive": {
     "language": "csharp"
    }
   },
   "outputs": [],
   "source": [
    "// refactored to accept a function.\n",
    "public record BottlingStepChecker(Func<DateTime> CurrentDate) : IStepChecker<Recipe>\n",
    "{\n",
    "    public string GetDate() => CurrentDate().ToLongTimeString();\n",
    "    public bool CanProceed(Recipe recipe) => CurrentDate().Date >= recipe.dateToBottle.Date;\n",
    "}\n",
    "\n",
    "var checker = new BottlingStepChecker(() => DateTime.UtcNow);\n",
    "checker.CanProceed(pilsnerRecipe).Display();\n",
    "\n",
    "// No need to create a new instance since the function is executed lazily, e.g. you can \n",
    "// add to DI as a singleton.\n",
    "for(int i = 0; i < 6; i++)\n",
    "{\n",
    "    Task.Delay(500).GetAwaiter().GetResult();\n",
    "    checker.GetDate().Display();\n",
    "}\n"
   ]
  },
  {
   "cell_type": "markdown",
   "metadata": {},
   "source": [
    "Now the tests are simplified as well.\n",
    "\n",
    "```csharp\n",
    "readonly DateTime fakeDate = new DateTime(2022, 1, 7);\n",
    "\n",
    "public class FakeDateService : IDateService\n",
    "{\n",
    "    public DateTime GetDate() => fakeDate;\n",
    "}\n",
    "\n",
    "[Test]\n",
    "public void InterfaceBasedTests()\n",
    "{    \n",
    "    var dtSvc = new FakeDateService(); // Moq could be used here but that's another dependency you'll rely on.\n",
    "    var recipe = new Recipe(default, default, default, fakeDate.AddDays(1));    \n",
    "    var sut = new BottlingStepChecker(dtSvc);\n",
    "    \n",
    "    sut.CanProceed(recipe).Should().BeFalse();\n",
    "}\n",
    "\n",
    "[Test]\n",
    "public void FuncBasedTests()\n",
    "{\n",
    "    var sut = new BottlingStepChecker(() => fakeDate);\n",
    "    var recipe = new Recipe(default, default, default, fakeDate.AddDays(1));\n",
    "\n",
    "    sut.CanProceed(recipe).Should().BeFalse();\n",
    "}\n",
    "```"
   ]
  },
  {
   "cell_type": "markdown",
   "metadata": {},
   "source": [
    "## Parallelizing pure functions"
   ]
  },
  {
   "cell_type": "code",
   "execution_count": null,
   "metadata": {
    "dotnet_interactive": {
     "language": "csharp"
    }
   },
   "outputs": [],
   "source": [
    "\n",
    "static class Extensions\n",
    "{\n",
    "    public static string ToSentenceCase(string s)\n",
    "        => s == string.Empty\n",
    "            ? string.Empty\n",
    "            : char.ToUpperInvariant(s[0]) + s.ToLower()[1..];\n",
    "}\n",
    "\n",
    "class ListFormatter\n",
    "{\n",
    "    \n",
    "    int counter;\n",
    " \n",
    "   string PrependCounter(string s) => $\"{++counter}. {s}\";\n",
    " \n",
    "   public List<string> Format(List<string> list)\n",
    "      => list\n",
    "         .AsParallel()\n",
    "         .Select(Extensions.ToSentenceCase)\n",
    "         .Select(PrependCounter)\n",
    "         .ToList();\n",
    "}\n",
    "\n",
    "var listOfHops = new List<string>\n",
    "{\n",
    "    \"ADMIRAL\", \"Magnum\", \"newport\", \"Comet\", \"sorachi ace\"\n",
    "};\n",
    "\n",
    "// Impure formatter.\n",
    "new ListFormatter()\n",
    "    .Format(listOfHops)\n",
    "    .ForEach(Console.WriteLine);"
   ]
  },
  {
   "cell_type": "markdown",
   "metadata": {},
   "source": [
    "```csharp\n",
    "var allHops = Enumerable.Range(0, 100_000).Select(i => $\"item{i}\").ToList();\n",
    "new ListFormatter()\n",
    "    .Format(allHops)\n",
    "    .ForEach(Console.WriteLine);\n",
    "```\n",
    "\n",
    "Most times, without a fast CPU or some sort of interlock you'll get an output similar to this:\n",
    "```\n",
    "99998. Item 89831\n",
    "99999. Item 89949\n",
    "99998. Item 96754\n",
    "```\n",
    "\n",
    "Refactor to pure implementations will not require the need for a lock and in some cases improve performance because of it.\n",
    "\n",
    "```csharp\n",
    "using static System.Linq.ParallelEnumerable; \n",
    "\n",
    "public static class ListFormatterPure\n",
    "{\n",
    "    public static List<string> Format(List<string> input) \n",
    "        => input.AsParallel()\n",
    "            .Select(Extensions.ToSentenceCase)\n",
    "            .Zip(Range(1, input.Count), (s, i) => $\"{i}. {s}\")\n",
    "            .ToList();\n",
    "}\n",
    "```"
   ]
  },
  {
   "cell_type": "markdown",
   "metadata": {},
   "source": [
    "### What about the absense of data?\n",
    "\n",
    "There are times, especially with I/O, where there will not be any data that is returned. So there are specific types that we can use to help us out.\n",
    "\n",
    "#### Unit\n",
    "\n",
    "The `Unit` type is there to represent a function that returns no data. This differs from `void` because you can create an instance of it. You can than have your `Action<T>` functions wrapped into a `Func<Unit>` type now via an adapter function. You can still use `void` but it should be sparingly.\n",
    "\n",
    "#### Option\n",
    "\n",
    "The `Option` type says that you're function can take something or return something that may or may not have a value, sometimes also called `Maybe`. This can be useful in many different ways, especially in the effort of removing `null` from your code but also weird inconsistencies in libraries that you may use.\n",
    "\n",
    "It looks like this: `Option<T> = Some<T> | None`"
   ]
  },
  {
   "cell_type": "code",
   "execution_count": null,
   "metadata": {
    "dotnet_interactive": {
     "language": "csharp"
    }
   },
   "outputs": [],
   "source": [
    "using System.Collections.Specialized;\n",
    "try\n",
    "{\n",
    "    var hopsAndAlphaCollection = new NameValueCollection();\n",
    "    var falconerHops = hopsAndAlphaCollection[\"falconer\"];\n",
    "    Console.WriteLine(\"falconer hops found\");\n",
    "\n",
    "    var maltAndColorCollection = new Dictionary<string, string>();\n",
    "    var caramel400 = maltAndColorCollection[\"caramel400\"];\n",
    "} \n",
    "catch( Exception ex) \n",
    "{\n",
    "    Console.WriteLine(ex.GetType().Name);\n",
    "}"
   ]
  },
  {
   "cell_type": "markdown",
   "metadata": {},
   "source": [
    "Instead we could wrap use the `Option` type to wrap the returned values which would determine if the value is `Some<string>` or in the case of an exception, you could return a `None`. \n",
    "\n",
    "The net result is the caller could then recieve that value know it will be one of two types and decide what to do next, generally with some sort of pattern matching. \n",
    "\n",
    "For example:\n",
    "\n",
    "```csharp\n",
    "string OutputTheValue(Option<string> fromCollection) \n",
    "    => fromCollection.Match(                                        // Match would be an extension method on Option<T>\n",
    "        None: () => \"Value Not Found!\",\n",
    "        Some: (value) => Console.WriteLine($\"value found: {value}\")\n",
    "    );\n",
    "```"
   ]
  },
  {
   "cell_type": "markdown",
   "metadata": {},
   "source": [
    "### Honesty is the best policy\n",
    "Writing a function that doesn't lie to me or others about what it does. \n",
    "\n",
    "Let's say we have a calculation for IBU scores where it can't be less than 0 or more than 100 but between certain levels lives a style of beer we want to display as a general guideline. "
   ]
  },
  {
   "cell_type": "code",
   "execution_count": null,
   "metadata": {
    "dotnet_interactive": {
     "language": "csharp"
    }
   },
   "outputs": [],
   "source": [
    "public enum BeerStyle \n",
    "{\n",
    "    Lambic,\n",
    "    Amber,\n",
    "    PaleAle,\n",
    "    IPA,\n",
    "    ImperialIPA\n",
    "}\n",
    "\n",
    "public BeerStyle GetStyleByIbu(int ibu)\n",
    "{\n",
    "    if(ibu < 0 || ibu > 100) \n",
    "        throw new ArgumentOutOfRangeException(\"IBU is invalid\");\n",
    "    \n",
    "    return ibu switch\n",
    "    {\n",
    "       > 90 => BeerStyle.ImperialIPA,\n",
    "       > 80 => BeerStyle.IPA,\n",
    "       > 50 => BeerStyle.PaleAle,\n",
    "       > 30 => BeerStyle.Amber,\n",
    "       > 0 => BeerStyle.Lambic,\n",
    "    };\n",
    "}\n",
    "\n",
    "GetStyleByIbu(91).Display();\n",
    "GetStyleByIbu(54).Display();\n",
    "GetStyleByIbu(5).Display();\n",
    "GetStyleByIbu(120).Display()"
   ]
  },
  {
   "cell_type": "markdown",
   "metadata": {},
   "source": [
    "In truth, the function contract should reflect that an exception can be thrown. This is best handled in a library of some kind but a simple niave implementation would look like `Either<L, R>`. The `Either` type is usually set for a Left and Right value where the Left is the error state and the Right is the value. This becomes very interesting in validation scenarios where you can have some fail and some pass and you want to report all the failures (and/or success) to the user. \n",
    "\n",
    "This is also called Railway Programming, because at any point in the pipeline you can switch to the error track and continue along in the pipeline. \n",
    "\n",
    "```csharp\n",
    "public Either<BeerStyleUnknown, BeerStyle> GetStyleByIbu(int ibu)\n",
    "{\n",
    "    if(ibu < 0 || ibu > 100)\n",
    "        return new BeerStyleUnknown(\"You passed in an invalid ibu reading.\");\n",
    "    \n",
    "    return ibu switch\n",
    "    {\n",
    "       > 90 => BeerStyle.ImperialIPA,\n",
    "       > 80 => BeerStyle.IPA,\n",
    "       > 50 => BeerStyle.PaleAle,\n",
    "       > 30 => BeerStyle.Amber,\n",
    "       > 0 => BeerStyle.Lambic,\n",
    "    };\n",
    "}\n",
    "```\n",
    "\n",
    "Now when you call that function, you can pattern match on the result of the function and graceful handle any errors or continue on in your business logic, either way it's safer, concise and more readable. \n"
   ]
  }
 ],
 "metadata": {
  "kernelspec": {
   "display_name": ".NET (C#)",
   "language": "C#",
   "name": ".net-csharp"
  },
  "language_info": {
   "name": "C#"
  }
 },
 "nbformat": 4,
 "nbformat_minor": 2
}
