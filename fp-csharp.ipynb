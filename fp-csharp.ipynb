{
 "cells": [
  {
   "cell_type": "markdown",
   "metadata": {},
   "source": [
    "## Function Examples\n",
    "Below are some C# implementations of various ways that function may appear in a code base"
   ]
  },
  {
   "cell_type": "markdown",
   "metadata": {},
   "source": [
    "#### Typical and Lambda Functions"
   ]
  },
  {
   "cell_type": "code",
   "execution_count": null,
   "metadata": {
    "dotnet_interactive": {
     "language": "csharp"
    }
   },
   "outputs": [],
   "source": [
    "// typical function\n",
    "public static int MultiplyBy2AndAdd(int x, int y) {\n",
    "    return (x * 2) + (y * 2);\n",
    "}\n",
    "\n",
    "// lambda function\n",
    "var IsMod3 = (int x) => x % 3 == 0; // aka: Func<int, bool> \n",
    "\n",
    "Console.WriteLine($\"MultiplyBy2AndAdd(2, 3): {MultiplyBy2AndAdd(2, 3)}\"); // == 10\n",
    "Console.WriteLine($\"IsMod(9): {IsMod3(9)}\"); // == true\n"
   ]
  },
  {
   "cell_type": "markdown",
   "metadata": {},
   "source": [
    "#### Delegate\n",
    "\n",
    "Using the `Comparison<T>` delegate type from the `System` namespace\n",
    "```csharp\n",
    "public namespace System\n",
    "{\n",
    "    public delegate Comparison<T>(T left, T right);\n",
    "}\n",
    "```"
   ]
  },
  {
   "cell_type": "code",
   "execution_count": null,
   "metadata": {
    "dotnet_interactive": {
     "language": "csharp"
    }
   },
   "outputs": [],
   "source": [
    "Comparison<string> sortAlphabetically = (left, right) =>\n",
    "    left.CompareTo(right);\n",
    "\n",
    "var beerList = new List<string> { \"tripel\", \"ipa\", \"sour ale\", \"dunkel\", \"lager\", \"aged\", \"stout\" };\n",
    "beerList.Sort(sortAlphabetically); \n",
    "beerList.Display();"
   ]
  },
  {
   "cell_type": "markdown",
   "metadata": {},
   "source": [
    "#### Dictionaries"
   ]
  },
  {
   "cell_type": "code",
   "execution_count": null,
   "metadata": {
    "dotnet_interactive": {
     "language": "csharp"
    }
   },
   "outputs": [],
   "source": [
    "var times2 = new Dictionary<int, int>\n",
    "{\n",
    "    { 0, 0 },\n",
    "    { 1, 2 },\n",
    "    { 2, 4 },\n",
    "    { 3, 6 },\n",
    "    { 4, 8 }\n",
    "};\n",
    "\n",
    "Console.WriteLine($\"times2[3]: {times2[3]}\");"
   ]
  },
  {
   "cell_type": "markdown",
   "metadata": {},
   "source": [
    "### e pluribus unum: creating a higher order function\n",
    "\n",
    "Below is sort of the canonical example that we probably use everyday using the `Where` method. `Where` takes a function that has a type `T` input and produces a `bool` (aka: `Func<T, bool>`)."
   ]
  },
  {
   "cell_type": "code",
   "execution_count": null,
   "metadata": {
    "dotnet_interactive": {
     "language": "csharp"
    }
   },
   "outputs": [
    {
     "data": {
      "text/html": [
       "<table><thead><tr><th><i>index</i></th><th>value</th></tr></thead><tbody><tr><td>0</td><td>sour ale</td></tr><tr><td>1</td><td>stout</td></tr></tbody></table>"
      ]
     },
     "metadata": {},
     "output_type": "display_data"
    }
   ],
   "source": [
    "beerList.Where(beer => beer.StartsWith(\"s\")).Display();"
   ]
  },
  {
   "cell_type": "markdown",
   "metadata": {},
   "source": [
    "We have already defined a HOF that produces a function, it is called `IsMod3`. That function produces a function that takes an input of `int` and returns a `bool`. "
   ]
  },
  {
   "cell_type": "code",
   "execution_count": null,
   "metadata": {
    "dotnet_interactive": {
     "language": "csharp"
    }
   },
   "outputs": [
    {
     "data": {
      "text/html": [
       "<table><thead><tr><th><i>index</i></th><th>value</th></tr></thead><tbody><tr><td>0</td><td><div class=\"dni-plaintext\">0</div></td></tr><tr><td>1</td><td><div class=\"dni-plaintext\">3</div></td></tr><tr><td>2</td><td><div class=\"dni-plaintext\">6</div></td></tr><tr><td>3</td><td><div class=\"dni-plaintext\">9</div></td></tr><tr><td>4</td><td><div class=\"dni-plaintext\">12</div></td></tr><tr><td>5</td><td><div class=\"dni-plaintext\">15</div></td></tr><tr><td>6</td><td><div class=\"dni-plaintext\">18</div></td></tr><tr><td>7</td><td><div class=\"dni-plaintext\">21</div></td></tr><tr><td>8</td><td><div class=\"dni-plaintext\">24</div></td></tr><tr><td>9</td><td><div class=\"dni-plaintext\">27</div></td></tr></tbody></table>"
      ]
     },
     "metadata": {},
     "output_type": "display_data"
    }
   ],
   "source": [
    "Enumerable.Range(0, 30).Where(IsMod3).Display();"
   ]
  },
  {
   "cell_type": "markdown",
   "metadata": {},
   "source": [
    "_Bonus_: You can get pretty crazy with passing functions and one aspect of more advanced FP is partial applications. This allows you to create functions interatively. "
   ]
  },
  {
   "cell_type": "code",
   "execution_count": null,
   "metadata": {
    "dotnet_interactive": {
     "language": "csharp"
    }
   },
   "outputs": [
    {
     "name": "stdout",
     "output_type": "stream",
     "text": [
      "WARNING: We did something bad but not terrible.\n",
      "ERROR: THIS WAS REALLY BAD!\n",
      "DEBUG: Meh, just some random data.\n",
      "ERROR: THIS IS BAD!\n",
      "DEBUG: Some random info.\n",
      "WARNING: Not terrible but you should know about it.\n"
     ]
    }
   ],
   "source": [
    "// we have a function that outputs some log message\n",
    "var log = (string level, string message) => Console.WriteLine($\"{level.ToUpper()}: {message}\");\n",
    "log(\"WARNING\", \"We did something bad but not terrible.\");\n",
    "log(\"Error\", \"THIS WAS REALLY BAD!\");\n",
    "log(\"debug\", \"Meh, just some random data.\");\n",
    "\n",
    "// that could get tedious, so lets add some generic log level functions\n",
    "// we will rewrite the log function so it can be partially applied\n",
    "var newlog = (string level) => (string message) =>  Console.WriteLine($\"{level.ToUpper()}: {message}\");\n",
    "\n",
    "// specialized logging functions\n",
    "var errorLog = newlog(\"error\");\n",
    "var debugLog = newlog(\"Debug\");\n",
    "var warningLog = newlog(\"WARNING\");\n",
    "\n",
    "// using the specialized functions\n",
    "errorLog(\"THIS IS BAD!\");\n",
    "debugLog(\"Some random info.\");\n",
    "warningLog(\"Not terrible but you should know about it.\")\n"
   ]
  },
  {
   "cell_type": "markdown",
   "metadata": {},
   "source": [
    "## Impure Function example"
   ]
  },
  {
   "cell_type": "code",
   "execution_count": null,
   "metadata": {
    "dotnet_interactive": {
     "language": "csharp"
    }
   },
   "outputs": [],
   "source": [
    "// Calculates the size of fermentation vessel we need\n",
    "// based on the amount of ingredients\n",
    "public class Ferment\n",
    "{\n",
    "    private List<string> ingredients = new();\n",
    "    private string equipmentNeeded = \"5 gallon fermenter\";\n",
    "\n",
    "    public void AddIngredient(string ingredient)\n",
    "    {\n",
    "        ingredients.Add(ingredient);\n",
    "        if(ingredient.Length > 10) {\n",
    "            equipmentNeeded = \"15 gallon fermenter\";\n",
    "        } else if (ingredient.Length > 5) {\n",
    "            equipmentNeeded = \"10 gallon fermenter\";\n",
    "        }\n",
    "    }\n",
    "\n",
    "    public string GetEquipmentNeeded() {\n",
    "        return equipmentNeeded;\n",
    "    }\n",
    "\n",
    "    public List<string> GetIngredients() {\n",
    "        return ingredients;\n",
    "    }\n",
    "}"
   ]
  },
  {
   "cell_type": "markdown",
   "metadata": {},
   "source": [
    "## Reimplemented as a pure function"
   ]
  },
  {
   "cell_type": "code",
   "execution_count": null,
   "metadata": {
    "dotnet_interactive": {
     "language": "csharp"
    }
   },
   "outputs": [],
   "source": []
  },
  {
   "cell_type": "markdown",
   "metadata": {},
   "source": [
    "## Side effects and how to deal with them"
   ]
  },
  {
   "cell_type": "code",
   "execution_count": null,
   "metadata": {
    "dotnet_interactive": {
     "language": "csharp"
    }
   },
   "outputs": [],
   "source": []
  },
  {
   "cell_type": "markdown",
   "metadata": {},
   "source": [
    "## Parallelizing pure functions is 🔥"
   ]
  },
  {
   "cell_type": "code",
   "execution_count": null,
   "metadata": {
    "dotnet_interactive": {
     "language": "csharp"
    }
   },
   "outputs": [],
   "source": []
  },
  {
   "cell_type": "markdown",
   "metadata": {},
   "source": [
    "### Honesty is the best policy\n",
    "Writing a function that doesn't lie to me or others about what it does. "
   ]
  },
  {
   "cell_type": "code",
   "execution_count": null,
   "metadata": {
    "dotnet_interactive": {
     "language": "csharp"
    }
   },
   "outputs": [],
   "source": []
  },
  {
   "cell_type": "markdown",
   "metadata": {},
   "source": [
    "## Immutability in C# 10"
   ]
  },
  {
   "cell_type": "code",
   "execution_count": null,
   "metadata": {
    "dotnet_interactive": {
     "language": "csharp"
    }
   },
   "outputs": [],
   "source": []
  },
  {
   "cell_type": "markdown",
   "metadata": {},
   "source": [
    "## Immutability before C# 10"
   ]
  },
  {
   "cell_type": "code",
   "execution_count": null,
   "metadata": {
    "dotnet_interactive": {
     "language": "csharp"
    }
   },
   "outputs": [],
   "source": []
  },
  {
   "cell_type": "markdown",
   "metadata": {},
   "source": [
    "## Copy on update"
   ]
  },
  {
   "cell_type": "code",
   "execution_count": null,
   "metadata": {
    "dotnet_interactive": {
     "language": "csharp"
    }
   },
   "outputs": [],
   "source": []
  },
  {
   "cell_type": "markdown",
   "metadata": {},
   "source": [
    "### Bonus items\n",
    "\n",
    "Removing `null` with `Option<T>`"
   ]
  },
  {
   "cell_type": "code",
   "execution_count": null,
   "metadata": {
    "dotnet_interactive": {
     "language": "csharp"
    }
   },
   "outputs": [],
   "source": []
  }
 ],
 "metadata": {
  "kernelspec": {
   "display_name": ".NET (C#)",
   "language": "C#",
   "name": ".net-csharp"
  },
  "language_info": {
   "name": "C#"
  }
 },
 "nbformat": 4,
 "nbformat_minor": 2
}
